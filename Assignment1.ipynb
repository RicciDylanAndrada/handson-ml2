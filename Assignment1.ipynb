{
  "nbformat": 4,
  "nbformat_minor": 0,
  "metadata": {
    "colab": {
      "name": "Untitled2.ipynb",
      "provenance": [],
      "collapsed_sections": [],
      "authorship_tag": "ABX9TyMv/8Zh2pNd2ob+KR8YDj4j",
      "include_colab_link": true
    },
    "kernelspec": {
      "name": "python3",
      "display_name": "Python 3"
    },
    "language_info": {
      "name": "python"
    }
  },
  "cells": [
    {
      "cell_type": "markdown",
      "metadata": {
        "id": "view-in-github",
        "colab_type": "text"
      },
      "source": [
        "<a href=\"https://colab.research.google.com/github/RicciDylanAndrada/handson-ml2/blob/master/Assignment1.ipynb\" target=\"_parent\"><img src=\"https://colab.research.google.com/assets/colab-badge.svg\" alt=\"Open In Colab\"/></a>"
      ]
    },
    {
      "cell_type": "code",
      "metadata": {
        "colab": {
          "base_uri": "https://localhost:8080/",
          "height": 805
        },
        "id": "O2q6ArQuEsj2",
        "outputId": "2d263061-d8f2-475c-be46-487777864629"
      },
      "source": [
        "import random\n",
        "import numpy as np\n",
        "\n",
        "import matplotlib.pyplot as plt\n",
        "import matplotlib.ticker as ticker\n",
        "\n",
        "n=1000\n",
        "xLine=[ ]\n",
        "yLine = []\n",
        "twoOutcomes = 0\n",
        "for x in range(10,1010,100):\n",
        "  xLine.append(x)\n",
        "  for n in range(x):\n",
        "    number = (random.randint(1,10))\n",
        "    if(number == 2):   \n",
        "      twoOutcomes+=1 \n",
        "    else:\n",
        "      continue\n",
        "  probability = (twoOutcomes/1000) * 100\n",
        "  yLine.append(probability)\n",
        "  print(\"Probability of 2 is \" + str(probability) +\"%\" + \"in \" + str(x) +\" trials\")\n",
        "  print(yLine)\n",
        "  print(xLine)\n",
        "\n",
        "tick_spacing = 10\n",
        "\n",
        "plt.plot(xLine,yLine,label='Probability of 2')\n",
        "x_ticks = np.arange(10, 1010, 100)\n",
        "plt.xticks(x_ticks)\n",
        "plt.plot()\n",
        "plt.xlabel(\"Max Number of Trials \")\n",
        "plt.ylabel(\"Probability of 2\")\n",
        "plt.title(\"Line Graph\")\n",
        "\n",
        "plt.legend()\n",
        "plt.show()\n"
      ],
      "execution_count": 53,
      "outputs": [
        {
          "output_type": "stream",
          "text": [
            "Probability of 2 is 0.2%in 10 trials\n",
            "[0.2]\n",
            "[10]\n",
            "Probability of 2 is 2.4%in 110 trials\n",
            "[0.2, 2.4]\n",
            "[10, 110]\n",
            "Probability of 2 is 4.3%in 210 trials\n",
            "[0.2, 2.4, 4.3]\n",
            "[10, 110, 210]\n",
            "Probability of 2 is 7.5%in 310 trials\n",
            "[0.2, 2.4, 4.3, 7.5]\n",
            "[10, 110, 210, 310]\n",
            "Probability of 2 is 10.8%in 410 trials\n",
            "[0.2, 2.4, 4.3, 7.5, 10.8]\n",
            "[10, 110, 210, 310, 410]\n",
            "Probability of 2 is 16.1%in 510 trials\n",
            "[0.2, 2.4, 4.3, 7.5, 10.8, 16.1]\n",
            "[10, 110, 210, 310, 410, 510]\n",
            "Probability of 2 is 22.900000000000002%in 610 trials\n",
            "[0.2, 2.4, 4.3, 7.5, 10.8, 16.1, 22.900000000000002]\n",
            "[10, 110, 210, 310, 410, 510, 610]\n",
            "Probability of 2 is 28.9%in 710 trials\n",
            "[0.2, 2.4, 4.3, 7.5, 10.8, 16.1, 22.900000000000002, 28.9]\n",
            "[10, 110, 210, 310, 410, 510, 610, 710]\n",
            "Probability of 2 is 37.1%in 810 trials\n",
            "[0.2, 2.4, 4.3, 7.5, 10.8, 16.1, 22.900000000000002, 28.9, 37.1]\n",
            "[10, 110, 210, 310, 410, 510, 610, 710, 810]\n",
            "Probability of 2 is 47.0%in 910 trials\n",
            "[0.2, 2.4, 4.3, 7.5, 10.8, 16.1, 22.900000000000002, 28.9, 37.1, 47.0]\n",
            "[10, 110, 210, 310, 410, 510, 610, 710, 810, 910]\n"
          ],
          "name": "stdout"
        },
        {
          "output_type": "display_data",
          "data": {
            "image/png": "[encoded data removed]",
            "text/plain": [
              "<Figure size 432x288 with 1 Axes>"
            ]
          },
          "metadata": {
            "tags": [],
            "needs_background": "light"
          }
        }
      ]
    },
    {
      "cell_type": "code",
      "metadata": {
        "id": "_F5jXU-yPQ9n"
      },
      "source": [
        ""
      ],
      "execution_count": null,
      "outputs": []
    },
    {
      "cell_type": "code",
      "metadata": {
        "id": "4xvMvLJoGKOJ"
      },
      "source": [
        ""
      ],
      "execution_count": null,
      "outputs": []
    }
  ]
}